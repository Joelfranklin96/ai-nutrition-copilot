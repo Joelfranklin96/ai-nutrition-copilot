{
 "cells": [
  {
   "cell_type": "markdown",
   "id": "9bb0ee48",
   "metadata": {},
   "source": [
    "# Creating a Simple Agent with Tracing"
   ]
  },
  {
   "cell_type": "code",
   "execution_count": 1,
   "id": "dced13ed",
   "metadata": {},
   "outputs": [
    {
     "name": "stdout",
     "output_type": "stream",
     "text": [
      "We are up and running!\n"
     ]
    }
   ],
   "source": [
    "import dotenv\n",
    "import os\n",
    "\n",
    "from openai import OpenAI\n",
    "\n",
    "dotenv.load_dotenv()\n",
    "\n",
    "if not os.environ.get(\"OPENAI_API_KEY\"):\n",
    "    print(\n",
    "        \"\"\"Error: OPENAI_API_KEY environment variable not set. Please copy the .env.template file as .env and fill it in.\n",
    "    \n",
    "    You can execute these commands in the terminal to get started:\n",
    "    cp .env.template .env\n",
    "    code .env\n",
    "    \"\"\"\n",
    "    )\n",
    "\n",
    "# Test OpenAI Access\n",
    "print(\n",
    "    OpenAI()\n",
    "    .responses.create(\n",
    "        model=os.environ[\"OPENAI_DEFAULT_MODEL\"], input=\"Say: We are up and running!\"\n",
    "    )\n",
    "    .output_text\n",
    ")"
   ]
  },
  {
   "cell_type": "code",
   "execution_count": 2,
   "id": "afcbf0e1",
   "metadata": {},
   "outputs": [],
   "source": [
    "from agents import Agent, Runner, trace\n",
    "from openai.types.responses import ResponseTextDeltaEvent"
   ]
  },
  {
   "cell_type": "markdown",
   "id": "648facaa",
   "metadata": {},
   "source": [
    "Create a simple Nutrition Assistant Agent"
   ]
  },
  {
   "cell_type": "code",
   "execution_count": null,
   "id": "5e542d69",
   "metadata": {},
   "outputs": [],
   "source": [
    "nutrition_agent = Agent(\n",
    "    name=\"Nutrition Assistant\",\n",
    "    instructions=\"\"\"\n",
    "    You are a helpful assistant giving out nutrition advice.\n",
    "    You give concise answers.\n",
    "    \"\"\",\n",
    ")\n",
    "\n",
    "# The above is Anthropic's Agent SDK/framework but with it we are using the OpenAI API key.\n",
    "'''\n",
    "SDK (Software Development Kit) = The framework/library we use to build our agent.\n",
    "LLM API = The actual language model service we're calling.\n",
    "They are separate and independent!\n",
    "\n",
    "The SDK is just the scaffolding. We can plug in whatever LLM API we want (OpenAI, Anthropic, Google, etc.) \n",
    "as long as the SDK supports it.\n",
    "'''\n",
    "# In the above, the 'instructions' acts as a system prompt."
   ]
  },
  {
   "cell_type": "markdown",
   "id": "8d30b1b1",
   "metadata": {},
   "source": [
    "Let's execute the Agent:"
   ]
  },
  {
   "cell_type": "code",
   "execution_count": null,
   "id": "1ede6dc3",
   "metadata": {},
   "outputs": [
    {
     "name": "stdout",
     "output_type": "stream",
     "text": [
      "RunResult:\n",
      "- Last agent: Agent(name=\"Nutrition Assistant\", ...)\n",
      "- Final output (str):\n",
      "    Bananas are healthy and convenient:\n",
      "    \n",
      "    - Nutrients: good source of potassium, vitamin B6, vitamin C, and dietary fiber.\n",
      "    - Energy: about 90–110 kcal per medium banana; natural sugars but balanced by fiber.\n",
      "    - Benefits: supports heart health, digestion, and energy for workouts.\n",
      "    - Variants: ripe bananas have more sugars; unripe have more resistant starch (gentler on blood sugar).\n",
      "    - Cautions: generally fine for most people; those with kidney disease may need to limit potassium. Rare allergy.\n",
      "    \n",
      "    Overall, a common, nutrient-rich snack or part of meals.\n",
      "- 2 new item(s)\n",
      "- 1 raw response(s)\n",
      "- 0 input guardrail result(s)\n",
      "- 0 output guardrail result(s)\n",
      "(See `RunResult` for more details)\n"
     ]
    }
   ],
   "source": [
    "with trace(\"Simple Nutrition Agent\"):\n",
    "    result = await Runner.run(nutrition_agent, \"How healthy are bananas?\")\n",
    "\n",
    "print(result)\n",
    "\n",
    "# The 'run' function is an asynchronous function in python.\n",
    "\n",
    "# The POST request on traces that we see is not the POST request sent to LLM. The POST request is storing new trace data on a tracing platform like LangSmith.\n",
    "\n",
    "# Also the request we send to LLM to receive answer to our input question is actually a POST request and not a GET request.\n",
    "\n",
    "# POST requests:\n",
    "\n",
    "# - Used to send data to create/process something\n",
    "# - Data is sent in the request body\n",
    "# - Expected to cause processing/changes"
   ]
  },
  {
   "cell_type": "markdown",
   "id": "eee3194d",
   "metadata": {},
   "source": [
    "Streaming the answer to the screen, token by token"
   ]
  },
  {
   "cell_type": "code",
   "execution_count": null,
   "id": "fa70122b",
   "metadata": {},
   "outputs": [
    {
     "name": "stdout",
     "output_type": "stream",
     "text": [
      "Bananas are a healthy, convenient fruit. Quick snapshot:\n",
      "\n",
      "- Nutrients: good source of potassium, vitamin C, vitamin B6, and fiber.\n",
      "- Health benefits: supports heart health, digestion, and steady energy from natural sugars; resistant starch in greener bananas may aid gut health.\n",
      "- Considerations: moderate sugar content; portion size matters for diabetes or calorie goals; not a protein source.\n",
      "- Tips: ripe bananas are sweeter; greener ones have more resistant starch.\n",
      "\n",
      "One medium banana (about 118 g) is a common reference: ~105 calories."
     ]
    }
   ],
   "source": [
    "response_stream = Runner.run_streamed(nutrition_agent, \"How healthy are bananas?\")\n",
    "\n",
    "async for event in response_stream.stream_events():\n",
    "    if event.type == \"raw_response_event\" and isinstance(\n",
    "        event.data, ResponseTextDeltaEvent\n",
    "    ):\n",
    "        print(event.data.delta, end=\"\", flush=True)\n",
    "\n",
    "'''\n",
    "async for - Like a regular for loop, but for asynchronous operations\n",
    "\n",
    "- It waits for each event to arrive\n",
    "- Processes it immediately\n",
    "- Then waits for the next one\n",
    "- Think of it like checking your mailbox repeatedly as letters arrive\n",
    "\n",
    "- response_stream.stream_events() - Returns events one at a time as they happen\n",
    "\n",
    "- Each \"event\" is a notification about something that occurred\n",
    "- Events arrive in real-time as the LLM generates the response\n",
    "'''"
   ]
  },
  {
   "cell_type": "markdown",
   "id": "d5ab1047",
   "metadata": {},
   "source": [
    "_Good Job!_"
   ]
  },
  {
   "cell_type": "markdown",
   "id": "75e7c0c8",
   "metadata": {},
   "source": []
  }
 ],
 "metadata": {
  "kernelspec": {
   "display_name": "Python 3",
   "language": "python",
   "name": "python3"
  },
  "language_info": {
   "codemirror_mode": {
    "name": "ipython",
    "version": 3
   },
   "file_extension": ".py",
   "mimetype": "text/x-python",
   "name": "python",
   "nbconvert_exporter": "python",
   "pygments_lexer": "ipython3",
   "version": "3.13.5"
  }
 },
 "nbformat": 4,
 "nbformat_minor": 5
}
