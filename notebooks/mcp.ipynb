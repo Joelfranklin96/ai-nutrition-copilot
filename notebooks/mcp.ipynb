{
 "cells": [
  {
   "cell_type": "markdown",
   "id": "b35e6ed2",
   "metadata": {},
   "source": [
    "# MCP"
   ]
  },
  {
   "cell_type": "code",
   "execution_count": 1,
   "id": "f92c9e77",
   "metadata": {},
   "outputs": [
    {
     "data": {
      "text/plain": [
       "True"
      ]
     },
     "execution_count": 1,
     "metadata": {},
     "output_type": "execute_result"
    }
   ],
   "source": [
    "import os\n",
    "\n",
    "import chromadb\n",
    "import dotenv\n",
    "from agents import Agent, Runner, function_tool, trace\n",
    "from agents.mcp import MCPServerStreamableHttp\n",
    "\n",
    "dotenv.load_dotenv()"
   ]
  },
  {
   "cell_type": "markdown",
   "id": "8938c970",
   "metadata": {},
   "source": [
    "Let's set up our RAG database connection:"
   ]
  },
  {
   "cell_type": "code",
   "execution_count": 2,
   "id": "79d82b12",
   "metadata": {},
   "outputs": [],
   "source": [
    "chroma_client = chromadb.PersistentClient(path=\"../chroma\")\n",
    "nutrition_db = chroma_client.get_collection(name=\"nutrition_db\")"
   ]
  },
  {
   "cell_type": "code",
   "execution_count": 4,
   "id": "b2fac606",
   "metadata": {},
   "outputs": [],
   "source": [
    "# This is the same code as in the rag.ipynb notebook\n",
    "\n",
    "\n",
    "@function_tool\n",
    "def calorie_lookup_tool(query: str, max_results: int = 3) -> str:\n",
    "    \"\"\"\n",
    "    Tool function for a RAG database to look up calorie information for specific food items, but not for meals.\n",
    "\n",
    "    Args:\n",
    "        query: The food item to look up.\n",
    "        max_results: The maximum number of results to return.\n",
    "\n",
    "    Returns:\n",
    "        A string containing the nutrition information.\n",
    "    \"\"\"\n",
    "\n",
    "    results = nutrition_db.query(query_texts=[query], n_results=max_results)\n",
    "\n",
    "    if not results[\"documents\"][0]:\n",
    "        return f\"No nutrition information found for: {query}\"\n",
    "\n",
    "    # Format results for the agent\n",
    "    formatted_results = []\n",
    "    for i, doc in enumerate(results[\"documents\"][0]):\n",
    "        metadata = results[\"metadatas\"][0][i]\n",
    "        food_item = metadata[\"food_item\"].title()\n",
    "        calories = metadata[\"calories_per_100g\"]\n",
    "        category = metadata[\"food_category\"].title()\n",
    "\n",
    "        formatted_results.append(\n",
    "            f\"{food_item} ({category}): {calories} calories per 100g\"\n",
    "        )\n",
    "\n",
    "    return \"Nutrition Information:\\n\" + \"\\n\".join(formatted_results)"
   ]
  },
  {
   "cell_type": "markdown",
   "id": "af7ae56a",
   "metadata": {},
   "source": [
    "Integrate EXA Search as an MCP:"
   ]
  },
  {
   "cell_type": "code",
   "execution_count": 14,
   "id": "b8446290",
   "metadata": {},
   "outputs": [],
   "source": [
    "# Exa Search MCP code comes here:\n",
    "from agents import WebSearchTool\n",
    "\n",
    "# exa_search_mcp = MCPServerStreamableHttp(\n",
    "#     name=\"Exa Search MCP\",\n",
    "#     params={\n",
    "#         \"url\": f\"https://mcp.exa.ai/mcp?exaApiKey={os.environ.get(\"EXA_API_KEY\")}\",\n",
    "#         \"timeout\": 30,\n",
    "#     },\n",
    "#     client_session_timeout_seconds=30,\n",
    "#     cache_tools_list=True,\n",
    "#     max_retry_attempts=1,\n",
    "# )\n",
    "\n",
    "# await exa_search_mcp.connect()\n",
    "web_search = WebSearchTool()\n",
    "calorie_agent_with_search = Agent(\n",
    "    name=\"Nutrition Assistant\",\n",
    "    instructions=\"\"\"\n",
    "    * You are a helpful nutrition assistant giving out calorie information.\n",
    "    * You give concise answers.\n",
    "    * You MUST follow this workflow STRICTLY:\n",
    "        1) ALWAYS start by using the web_search tool to find the complete recipe and all ingredients for the requested meal. This is MANDATORY even if you think you know the ingredients.\n",
    "        2) Once you have the complete ingredient list from web search, use the calorie_lookup_tool for EACH individual ingredient.\n",
    "        3) Never use calorie_lookup_tool for the meal name directly - always break it down into ingredients first using web_search.\n",
    "    * CRITICAL: For any meal or dish (like \"english breakfast\", \"pizza\", \"burger\"), you MUST use web_search FIRST before any calorie lookup.\n",
    "    * In your final output give a list of ingredients with their quantities and calories for a single serving. Also display the total calories.\n",
    "    * Don't use the calorie_lookup_tool more than 10 times.\n",
    "    \"\"\",\n",
    "    tools=[calorie_lookup_tool, web_search]\n",
    ")"
   ]
  },
  {
   "cell_type": "markdown",
   "id": "9b5fe9e6",
   "metadata": {},
   "source": [
    "Reference query - shouldn't use ExaSearch:"
   ]
  },
  {
   "cell_type": "code",
   "execution_count": 8,
   "id": "e9440d7e",
   "metadata": {},
   "outputs": [
    {
     "name": "stdout",
     "output_type": "stream",
     "text": [
      "RunResult:\n",
      "- Last agent: Agent(name=\"Nutrition Assistant\", ...)\n",
      "- Final output (str):\n",
      "    - Banana: 1 medium (~118 g) ≈ 105 kcal (89 kcal per 100 g)\n",
      "    - Apple: 1 medium (~182 g) ≈ 95 kcal (52 kcal per 100 g)\n",
      "    - Total for one banana + one apple ≈ 200 kcal\n",
      "    \n",
      "    Calories per 100 g:\n",
      "    - Banana: 89 kcal/100 g\n",
      "    - Apple: 52 kcal/100 g\n",
      "    \n",
      "    Note: actual calories vary slightly with size.\n",
      "- 7 new item(s)\n",
      "- 3 raw response(s)\n",
      "- 0 input guardrail result(s)\n",
      "- 0 output guardrail result(s)\n",
      "(See `RunResult` for more details)\n"
     ]
    }
   ],
   "source": [
    "with trace(\"Nutrition Assistant with MCP - Only uses calorie_lookup_tool\"):\n",
    "    result = await Runner.run(\n",
    "        calorie_agent_with_search,\n",
    "        \"How many calories are in total in a banana and an apple? Also give calories per 100g\",\n",
    "    )\n",
    "    print(result)"
   ]
  },
  {
   "cell_type": "code",
   "execution_count": 15,
   "id": "9c1b3db5",
   "metadata": {},
   "outputs": [
    {
     "name": "stdout",
     "output_type": "stream",
     "text": [
      "A typical full English breakfast is about 618 kcal per serving (recipe from BBC Good Food). If you’d like, tell me your exact ingredients and quantities (e.g., 2 rashers bacon, 2 sausages, 2 eggs, beans, tomatoes, mushrooms, 2 slices toast, 1 tsp oil) and I’ll calculate a precise per-ingredient breakdown.\n"
     ]
    }
   ],
   "source": [
    "with trace(\"Nutrition Assistant with MCP \"):\n",
    "    result = await Runner.run(\n",
    "        calorie_agent_with_search, \"How many calories are in an english breakfast?\"\n",
    "    )\n",
    "    print(result.final_output)"
   ]
  },
  {
   "cell_type": "code",
   "execution_count": null,
   "id": "043224c1",
   "metadata": {},
   "outputs": [],
   "source": []
  }
 ],
 "metadata": {
  "kernelspec": {
   "display_name": "Python 3",
   "language": "python",
   "name": "python3"
  },
  "language_info": {
   "codemirror_mode": {
    "name": "ipython",
    "version": 3
   },
   "file_extension": ".py",
   "mimetype": "text/x-python",
   "name": "python",
   "nbconvert_exporter": "python",
   "pygments_lexer": "ipython3",
   "version": "3.13.5"
  }
 },
 "nbformat": 4,
 "nbformat_minor": 5
}
