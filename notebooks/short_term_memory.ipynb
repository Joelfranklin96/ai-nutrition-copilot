{
 "cells": [
  {
   "cell_type": "markdown",
   "id": "6d4e6275",
   "metadata": {},
   "source": [
    "# Short-Term Memory"
   ]
  },
  {
   "cell_type": "code",
   "execution_count": 1,
   "id": "64562644",
   "metadata": {},
   "outputs": [
    {
     "data": {
      "text/plain": [
       "True"
      ]
     },
     "execution_count": 1,
     "metadata": {},
     "output_type": "execute_result"
    }
   ],
   "source": [
    "import dotenv\n",
    "from agents import Agent, Runner, SQLiteSession, trace\n",
    "\n",
    "dotenv.load_dotenv()"
   ]
  },
  {
   "cell_type": "code",
   "execution_count": 2,
   "id": "c001bd3d",
   "metadata": {},
   "outputs": [],
   "source": [
    "nutrition_agent = Agent(\n",
    "    name=\"Nutrition Assistant\",\n",
    "    instructions=\"\"\"\n",
    "    You are a helpful assistant comparing how healthy different foods are.\n",
    "    If you answer, give a list of how healthy the foods are with a score from 1 to 10. Order by: healtiest food comes first.\n",
    "\n",
    "    Example:\n",
    "    Q: Compare X and Y\n",
    "    A: X is healthier than Y.\n",
    "    1) X: 8/10 - Very healthy but high in fructose\n",
    "    2) Y: 3/10 - High in sugar and fat\n",
    "    \"\"\",\n",
    ")"
   ]
  },
  {
   "cell_type": "markdown",
   "id": "6277cab0",
   "metadata": {},
   "source": [
    "## No Memory"
   ]
  },
  {
   "cell_type": "code",
   "execution_count": 3,
   "id": "900dec71",
   "metadata": {},
   "outputs": [
    {
     "name": "stdout",
     "output_type": "stream",
     "text": [
      "1) Bananas: 8/10 - Nutrient-dense: provides potassium, dietary fiber, vitamin C/B6; natural sugars but balanced by nutrients.\n",
      "2) Lollipop: 1/10 - Mostly added sugar with no essential nutrients; high empty calories.\n"
     ]
    }
   ],
   "source": [
    "result = await Runner.run(nutrition_agent, \"Which is healthier, bananas or lollipop?\")\n",
    "print(result.final_output)"
   ]
  },
  {
   "cell_type": "code",
   "execution_count": 4,
   "id": "aec2127a",
   "metadata": {},
   "outputs": [
    {
     "name": "stdout",
     "output_type": "stream",
     "text": [
      "Please specify the other food(s) to compare with apples (e.g., \"apples vs bananas\" or \"apples vs chips\"). I can then rank them 1–10 by healthiness.\n"
     ]
    }
   ],
   "source": [
    "result = await Runner.run(nutrition_agent, \"Add apples to the comparison\")\n",
    "print(result.final_output)"
   ]
  },
  {
   "cell_type": "markdown",
   "id": "f863cbce",
   "metadata": {},
   "source": [
    "## Short Term Memory"
   ]
  },
  {
   "cell_type": "code",
   "execution_count": 5,
   "id": "f220f82d",
   "metadata": {},
   "outputs": [],
   "source": [
    "session = SQLiteSession(\"conversation_history\")"
   ]
  },
  {
   "cell_type": "code",
   "execution_count": 6,
   "id": "8b748be6",
   "metadata": {},
   "outputs": [
    {
     "name": "stdout",
     "output_type": "stream",
     "text": [
      "Bananas are healthier than a lollipop.\n",
      "\n",
      "1) Bananas: 8/10 - Nutrient-dense (potassium, fiber, vitamins); natural sugars but balanced with fiber.\n",
      "2) Lollipop: 2/10 - Mostly sugar with almost no nutritional value.\n"
     ]
    }
   ],
   "source": [
    "result = await Runner.run(\n",
    "    nutrition_agent, \"Which is healthier, bananas or lollipop?\", session=session\n",
    ")\n",
    "print(result.final_output)"
   ]
  },
  {
   "cell_type": "code",
   "execution_count": 7,
   "id": "371995c0",
   "metadata": {},
   "outputs": [
    {
     "name": "stdout",
     "output_type": "stream",
     "text": [
      "Bananas, apples, and lollipops compared.\n",
      "\n",
      "1) Bananas: 8/10 - Nutrient-dense (potassium, fiber, vitamins); natural sugars but well-balanced.\n",
      "2) Apples: 7/10 - Good fiber and vitamin C; lower sugar than bananas in a serving; hydrating.\n",
      "3) Lollipop: 2/10 - Mostly sugar with little to no nutritional value.\n"
     ]
    }
   ],
   "source": [
    "with trace(\"Simple Nutrition Agent\"):\n",
    "    result = await Runner.run(\n",
    "        nutrition_agent, \"Add apples to the comparison\", session=session\n",
    "    )\n",
    "\n",
    "print(result.final_output)"
   ]
  },
  {
   "cell_type": "code",
   "execution_count": null,
   "id": "f2854eb1",
   "metadata": {},
   "outputs": [],
   "source": []
  }
 ],
 "metadata": {
  "kernelspec": {
   "display_name": "Python 3",
   "language": "python",
   "name": "python3"
  },
  "language_info": {
   "codemirror_mode": {
    "name": "ipython",
    "version": 3
   },
   "file_extension": ".py",
   "mimetype": "text/x-python",
   "name": "python",
   "nbconvert_exporter": "python",
   "pygments_lexer": "ipython3",
   "version": "3.13.5"
  }
 },
 "nbformat": 4,
 "nbformat_minor": 5
}
